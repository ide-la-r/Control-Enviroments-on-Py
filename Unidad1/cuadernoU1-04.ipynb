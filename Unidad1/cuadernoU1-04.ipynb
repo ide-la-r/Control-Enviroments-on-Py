{
 "cells": [
  {
   "cell_type": "markdown",
   "id": "7645ecfeb26150bc",
   "metadata": {},
   "source": [
    "# 4. Literales y lectura de datos por teclado"
   ]
  },
  {
   "cell_type": "markdown",
   "id": "1a3a22990ef4c18e",
   "metadata": {},
   "source": [
    "## 4.1 Literales\n",
    "Un literal en Python (y en la programación en general) es un valor fijo escrito directamente al código que no se calcula ni se deriva de ninguna otra expresión. Es simplemente una representación literal de un valor.\n",
    "### Literales numéricos\n",
    "Podemos representar enteros en diferentes bases:\n",
    "- Decimal: Representación regular. Ejemplo: 345\n",
    "- Binario: Prefijo 0b. Ejemplo: 0b101001001\n",
    "- Octal: Prefijo 0o. Ejemplo: 0o546\n",
    "- Hexadecimal: Prefijo 0x. Ejemplo: 0xf9af9d\n",
    "\n",
    "Los números reales (con decimales) se representan separando la parte entera del decimal con un punto '.':\n",
    "> 123.50    0.56    .56    12.    12.00\n",
    "También pueden utilizar la notación científica:\n",
    "> 1.2e3     5e-2\n",
    "Los números complejos (con parte real e imaginaria) se escriben con una 'j' al final de la parte imaginaria:\n",
    "> 1+2j     8+15J\n",
    "Puedes representar el infinito con:\n",
    "> float(\"inf\")     float(\"-inf\")\n",
    "\n",
    "**Todos son objetos**\n",
    "En Python, todos los elementos son objetos, incluso los literales. Cuando usamos un literal, Python crea un objeto con un identificador único, un tipo y un valor. Puedes obtener el identificador de un objeto con la función id():"
   ]
  },
  {
   "cell_type": "code",
   "execution_count": 9,
   "id": "initial_id",
   "metadata": {
    "collapsed": true
   },
   "outputs": [
    {
     "name": "stdout",
     "output_type": "stream",
     "text": [
      "140706273132552\n"
     ]
    }
   ],
   "source": [
    "x = 100\n",
    "print(id(x))"
   ]
  },
  {
   "cell_type": "markdown",
   "id": "80ca62f5d547d73f",
   "metadata": {},
   "source": [
    "### Cadenas literales (o simplemente cadenas)\n",
    "Los literales de tipo cadena están limitados por comillas simples o dobles, o también por triples comillas (''' o \"\"\").\n",
    "\n",
    "En Python, las comillas dobles y simples son equivalentes, aunque en otros lenguajes de programación pueden no serlo:"
   ]
  },
  {
   "cell_type": "code",
   "execution_count": 10,
   "id": "a9c12e6f77da8062",
   "metadata": {},
   "outputs": [
    {
     "name": "stdout",
     "output_type": "stream",
     "text": [
      "Esto es una cadena\n",
      "Esto es una cadena\n"
     ]
    }
   ],
   "source": [
    "print(\"Esto es una cadena\")     # Correcto\n",
    "print('Esto es una cadena')     # Correcto"
   ]
  },
  {
   "cell_type": "markdown",
   "id": "53b76ccb4e294f3e",
   "metadata": {},
   "source": [
    "Si usamos comillas simples, la cadena debe comenzar y terminar con comillas simples (no dobles) y viceversa:"
   ]
  },
  {
   "cell_type": "code",
   "execution_count": 11,
   "id": "611fd562b02b7f60",
   "metadata": {},
   "outputs": [
    {
     "ename": "SyntaxError",
     "evalue": "unterminated string literal (detected at line 1) (1015001642.py, line 1)",
     "output_type": "error",
     "traceback": [
      "  \u001b[36mCell\u001b[39m\u001b[36m \u001b[39m\u001b[32mIn[11]\u001b[39m\u001b[32m, line 1\u001b[39m\n\u001b[31m    \u001b[39m\u001b[31mprint(\"Esto es una cadena')     # Error de sintaxis\u001b[39m\n          ^\n\u001b[31mSyntaxError\u001b[39m\u001b[31m:\u001b[39m unterminated string literal (detected at line 1)\n"
     ]
    }
   ],
   "source": [
    "print(\"Esto es una cadena')     # Error de sintaxis\n",
    "print(\"Esto \"es una cadena\")    # Error de sintaxis"
   ]
  },
  {
   "cell_type": "markdown",
   "id": "17f060db2161e610",
   "metadata": {},
   "source": [
    "#### Comillas triples\n",
    "Las comillas triples permiten escribir cadenas que ocupan varias líneas. Son útiles cuando se desea superar el límite recomendado de 79 caracteres por línea:"
   ]
  },
  {
   "cell_type": "code",
   "execution_count": null,
   "id": "a2508b1e8a94fa10",
   "metadata": {},
   "outputs": [],
   "source": [
    "print(\"\"\"Esto es una cadena\n",
    "que ocupa\n",
    "varias líneas\"\"\")"
   ]
  },
  {
   "cell_type": "markdown",
   "id": "3247390b77eca9c8",
   "metadata": {},
   "source": [
    "También se puede hacer con el carácter '\\'. El carácter '\\' permite continuar la cadena en otra línea sin romperla:"
   ]
  },
  {
   "cell_type": "code",
   "execution_count": null,
   "id": "9cc1bba3e60c788f",
   "metadata": {},
   "outputs": [],
   "source": [
    "print(\"Esto es una cadena \\\n",
    "que ocupa \\\n",
    "varias líneas\")"
   ]
  },
  {
   "cell_type": "markdown",
   "id": "80ccdffd59359325",
   "metadata": {},
   "source": [
    " > ⚠️ Nota: En estos casos, el resultado es una cadena continua, sin saltos de línea. Si realmente quieres agregar saltos, necesitarás usar '\\n'.\n",
    "\n",
    "#### Usar comillas dentro de una cadena literal\n",
    "Si desea utilizar comillas del mismo tipo que el delimitador dentro de la cadena, debes \"escapar\" de ellas con el carácter de barra invertida '\\':"
   ]
  },
  {
   "cell_type": "code",
   "execution_count": null,
   "id": "83b3fba2e9cf881a",
   "metadata": {},
   "outputs": [],
   "source": [
    "print(\"Esto es una cadena con comillas dobles: \\\"ejemplo\\\"\")"
   ]
  },
  {
   "cell_type": "markdown",
   "id": "641184dfd035d0e3",
   "metadata": {},
   "source": [
    "#### Caracteres especiales dentro de las cadenas literales\n",
    "- \\\\\" Doble comilla dentro de comillas dobles\n",
    "- \\\\' Comilla simple dentro de comillas simples\n",
    "- \\n Salto de línea\n",
    "- \\t Tabulación horizontal\n",
    "- \\v Tabulación vertical\n",
    "- \\\\ Barra literal invertida\n"
   ]
  },
  {
   "cell_type": "code",
   "execution_count": null,
   "id": "a515dbafe2bdaf4e",
   "metadata": {},
   "outputs": [],
   "source": [
    "print(\"Hola\\tmundo\")\n",
    "print(\"Línea 1\\nLínea 2\")\n",
    "print(\"Ruta: C:\\\\ficheros\\\\usuario\")"
   ]
  },
  {
   "cell_type": "markdown",
   "id": "64ee1819cf72b593",
   "metadata": {},
   "source": [
    "#### Insertar valores dentro de cadenas\n",
    "Python ofrece varios mecanismos para insertar valores variables en cadenas de texto, tales como:\n",
    "- Formato clásico: \"Hola %s\" % nombre\n",
    "- Método format(): \"Hola {}\".format(nombre)\n",
    "- f-strings (desde Python 3.6): f\"Hola {nombre}\"\n",
    "\n",
    "El uso de **f-strings** (desde Python 3.6) es la forma recomendada:"
   ]
  },
  {
   "cell_type": "code",
   "execution_count": null,
   "id": "12955182eb10b033",
   "metadata": {},
   "outputs": [],
   "source": [
    "nombre = \"Juan\"\n",
    "edad = 25\n",
    "a, b = 4, 5\n",
    "pi = 3.141592\n",
    "cantidad = 1234567.89\n",
    "numero = -42\n",
    "n = 42\n",
    "\n",
    "print(f\"Mi nombre es {nombre} y tengo {edad} años.\")\n",
    "print(f\"La suma de {a} y {b} es {a + b}.\")\n",
    "print(f\"{edad=}\")                        # Depuración: edad=25\n",
    "print(f\"El valor de pi con 3 decimales es {pi:.3f}.\")\n",
    "print(f\"Porcentaje: {0.25:.2%}\")       # 25.00%"
   ]
  },
  {
   "cell_type": "markdown",
   "id": "89089c5389d809fd",
   "metadata": {},
   "source": [
    "Alineación y formatos especiales:"
   ]
  },
  {
   "cell_type": "code",
   "execution_count": null,
   "id": "256dcd6570df56c6",
   "metadata": {},
   "outputs": [],
   "source": [
    "print(f\"|{nombre:<10}|\")       # A la izquierda\n",
    "print(f\"|{nombre:>10}|\")       # A la derecha\n",
    "print(f\"|{nombre:_>10}|\")      # A la derecha con \"_\"\n",
    "print(f\"|{nombre:^10}|\")       # Centrado\n",
    "print(f\"|{nombre:*^10}|\")      # Centrado con \"*\"\n",
    "\n",
    "print(f\"Decimal: {n}, Binario: {n:b}, Hexadecimal: {n:x}, Octal: {n:o}\")\n",
    "print(f\"Con separador de millares: {cantidad:,.2f}\")\n",
    "print(f\"Con signo explícito: {numero:+d}\")   # -42\n",
    "print(f\"Con ceros a la izquierda: {42:06d}\")  # 000042"
   ]
  },
  {
   "cell_type": "markdown",
   "id": "bc5ee2d8f169821c",
   "metadata": {},
   "source": [
    "## 4.2 Lectura de datos por teclado en Python\n",
    "En cualquier lenguaje de programación, la introducción de datos en un programa es esencial para que pueda comportarse de diferentes maneras. Estos datos pueden servir como base para cálculos o para tomar decisiones, realizando una acción u otra de acuerdo con el valor introducido.\n",
    "### Uso de la función **input()**\n",
    "En Python, utilizamos **input()** para pedir al usuario que introduzca los datos por teclado. Estos datos se pueden utilizar más adelante en el programa:"
   ]
  },
  {
   "cell_type": "code",
   "execution_count": null,
   "id": "30e7b830335dcfe8",
   "metadata": {},
   "outputs": [],
   "source": [
    "numero1 = input(\"Dime un primer número: \")  # Aquí, numero1 será una cadena (string)\n",
    "# El programa se quedará esperando a que el usuario escriba un valor y pulse intro\n",
    "# Esta entrada se asignará a la variable numero1 como un texto.\n",
    "numero1 = int(numero1)  # Debemos convertirla a entero si queremos hacer operaciones numéricas\n",
    "numero2 = 128\n",
    "print(numero1, \"+\", numero2, \"=\", numero1 + numero2)\n",
    "print(f\"{numero1} + {numero2} =\", numero1 + numero2)"
   ]
  },
  {
   "cell_type": "markdown",
   "id": "b14f4f08585e3811",
   "metadata": {},
   "source": [
    "Ejemplo de error común:"
   ]
  },
  {
   "cell_type": "code",
   "execution_count": null,
   "id": "7d205b150b455a9",
   "metadata": {},
   "outputs": [],
   "source": [
    "n1 = input(\"Dime el primer número: \")\n",
    "n2 = input(\"Introduce el segundo número: \")\n",
    "print(\"La suma es\", n1 + n2)  # ¡Así hará una concatenación de caracteres!\n",
    "# ¿¿¿Qué ha pasado???\n",
    "print(\"La suma es\", int(n1) + int(n2))  # Así sí suma números correctamente"
   ]
  },
  {
   "cell_type": "markdown",
   "id": "f16ebdf2bfad6a67",
   "metadata": {},
   "source": [
    "### Entrada de múltiples valores separados por comas\n",
    "También podemos pedirle al usuario que introduzca varios valores separados por comas (u otros caracteres) y convertirlos a una lista de números:"
   ]
  },
  {
   "cell_type": "code",
   "execution_count": null,
   "id": "e4f4c2a67311099d",
   "metadata": {},
   "outputs": [],
   "source": [
    "entrada = input(\"Introducir números separados por comas: \")\n",
    "numeros = entrada.split(',')  # Separa cada valor utilizando la coma como caracter separador\n",
    "# Convertimos cada valor a entero, eliminando posibles espacios en blanco\n",
    "numeros = [int(num.strip()) for num in numeros]\n",
    "print(\"Lista de números:\", numeros)"
   ]
  },
  {
   "cell_type": "markdown",
   "id": "cf812e1f4ea5dc62",
   "metadata": {},
   "source": [
    "### Conclusión\n",
    "- La función **input()** siempre devuelve cadenas de texto.\n",
    "- Es necesario convertir estas cadenas a números si queremos hacer cálculos.\n",
    "- Podemos usar **split()** y **strip()** para procesar entradas múltiples."
   ]
  },
  {
   "cell_type": "markdown",
   "id": "bcb49a8955f7e379",
   "metadata": {},
   "source": [
    "## 4.3 Ejercicios de literales numéricos y cadenas literales\n",
    "- Ejercicio 1: Escribe tres expresiones numéricas: una que utilice enteros, otra con números decimales, y otra con una mezcla de ambos. Muestra los resultados de estas expresiones.\n",
    "- Ejercicio 2: Crea cadenas utilizando comillas simples, dobles y triples. Muestra cómo funcionan y cuándo es conveniente usarlas. Pregunta: ¿Qué pasa si usas comillas dobles dentro de comillas dobles o comillas simples dentro de comillas simples?\n",
    "- Ejercicio 3: Muestra cómo insertar caracteres especiales, como el salto de línea (\\n), tabulación (\\t), y comillas dentro de cadenas. Pregunta: ¿Qué efecto tiene cada uno de los caracteres especiales?\n",
    "- Ejercicio 4: Demuestra cómo insertar valores en cadenas utilizando f-strings, .format(), y el operador %. Pregunta: ¿Cuál de estos métodos te parece más sencillo de usar? ¿Por qué?\n",
    "- Ejercicio 5: Emplea la alineación de texto en cadenas para alinear valores a la izquierda, derecha o centrados. Utiliza .format() o f-strings. Pregunta: ¿Cómo puedes cambiar la alineación de las columnas usando los métodos vistos?\n",
    "- Ejercicio 6: Realiza ejemplos de formatos de texto con números decimales, enteros, y porcentajes. Usa f-strings o .format(). Pregunta: ¿Cómo puedes redondear el precio a un número específico de decimales? ¿Cómo puedes mostrar un número como porcentaje?\n",
    "\n",
    "## 4.4 Ejercicios con entrada de datos\n",
    "- Ejercicio 7: Solicita el nombre del usuario y muéstralo en pantalla.\n",
    "- Ejercicio 8: Solicita al usuario dos números, realiza operaciones matemáticas con ellos y muestra el resultado.\n",
    "- Ejercicio 9: Solicita al usuario que introduzca varios números separados por comas, luego convierte esa entrada en una lista de números y muestra la suma de esos números (emplea la función 'sum').\n",
    "- Ejercicio 10: Solicita al usuario una frase y convierte esa frase en una lista de palabras. Luego, muestra la longitud de la lista y la palabra más larga. Emplea la función 'max(palabras, key=len)'.\n",
    "\n",
    "## 4.5 Ejercicios avanzados\n",
    "- Ejercicio 11: Formatear la salida de una tabla. Solicita al usuario varias entradas para crear una tabla de datos. Por ejemplo, nombre, edad y ciudad, y luego alinea las columnas.\n",
    "- Ejercicio 12: Cálculo de una media. Solicita al usuario una lista de números separados por comas, luego calcula y muestra la media de esos números. Emplea las funciones 'sum' y 'len' para calcular la media."
   ]
  },
  {
   "cell_type": "code",
   "execution_count": null,
   "id": "91a140fe",
   "metadata": {},
   "outputs": [
    {
     "name": "stdout",
     "output_type": "stream",
     "text": [
      "20 102.00999999999999 1.05\n",
      "Hola me llamo ismael\n",
      "Hola me llamo ismael\n",
      "Hola me llamo ismael\n",
      "Y ella me dijo 'Enhorabuena' me alegro por ti\n",
      "Hola me llamo ismael de la rosa\n",
      " en que puedo ayudarte?\n",
      "Hola me llamo ismael tengo 19 años\n",
      "Hola me llamo ismael y tengo 19 años\n",
      "\n",
      "Nombre     Edad\n",
      "Ana           25\n",
      "  Ismael    32  \n",
      "\n",
      "Cantidad de productos: 7\n",
      "Precio con 2 decimales: $12.35\n",
      "Precio con 4 decimales: $12.3457\n",
      "Descuento aplicado: 15.78%\n",
      "\n",
      "Cantidad de productos: 7\n",
      "Precio con 2 decimales: $12.35\n",
      "Descuento aplicado: 15.8%\n",
      "\n",
      "Total a pagar (descuento incluido): $72.78\n"
     ]
    }
   ],
   "source": [
    "#4.3 EJERCICIOS\n",
    "\n",
    "#Ejercicio 1\n",
    "a = 10 + 10\n",
    "b = 10.1 * 10.1\n",
    "c = 10.5 / 10\n",
    "\n",
    "print(a, b, c)\n",
    "\n",
    "#Ejercicio 2\n",
    "print('Hola me llamo ismael')\n",
    "print(\"Hola me llamo ismael\")\n",
    "print(\"\"\"Hola me llamo ismael\"\"\")\n",
    "print(\"Y ella me dijo 'Enhorabuena' me alegro por ti\")\n",
    "\n",
    "#Ejercicio 3\n",
    "print(\"Hola me llamo ismael de la rosa\\n en que puedo ayudarte?\")\n",
    "\n",
    "#Ejercicio 4\n",
    "nombre = \"ismael\"\n",
    "edad = 19\n",
    "print(f\"Hola me llamo {nombre} tengo {edad} años\")\n",
    "print(\"Hola me llamo {} y tengo {} años\".format(nombre, edad))\n",
    "\n",
    "#Ejercicio 5\n",
    "nombre1, nombre2 = \"Ana\", \"Ismael\"\n",
    "edad1, edad2 = 25, 32\n",
    "print(f\"{'\\nNombre':<10} {'Edad':>5}\")\n",
    "print(f\"{nombre1:<10} {edad1:>5}\")\n",
    "print(f\"{nombre2:^10} {edad2:^5}\")\n",
    "\n",
    "\n",
    "#Ejercicio 6\n",
    "precio = 12.34567\n",
    "cantidad = 7\n",
    "descuento = 0.1578\n",
    "\n",
    "# --- Usando f-strings ---\n",
    "print(f\"\\nCantidad de productos: {cantidad:d}\")              # Entero\n",
    "print(f\"Precio con 2 decimales: ${precio:.2f}\")            # Redondeado a 2 decimales\n",
    "print(f\"Precio con 4 decimales: ${precio:.4f}\")            # Redondeado a 4 decimales\n",
    "print(f\"Descuento aplicado: {descuento:.2%}\")              # Formato porcentaje (2 decimales)\n",
    "\n",
    "# --- Usando .format() ---\n",
    "print(\"\\nCantidad de productos: {:d}\".format(cantidad))\n",
    "print(\"Precio con 2 decimales: ${:.2f}\".format(precio))\n",
    "print(\"Descuento aplicado: {:.1%}\".format(descuento))      # 1 decimal en porcentaje\n",
    "\n",
    "# --- Ejemplo combinado ---\n",
    "total = precio * cantidad * (1 - descuento)\n",
    "print(f\"\\nTotal a pagar (descuento incluido): ${total:.2f}\")\n"
   ]
  },
  {
   "cell_type": "code",
   "execution_count": null,
   "id": "ec70b9db",
   "metadata": {},
   "outputs": [
    {
     "name": "stdout",
     "output_type": "stream",
     "text": [
      "\n",
      "\n",
      "[1, 2, 3, 4, 5]\n"
     ]
    }
   ],
   "source": [
    "#4.4 EJERCICIOS\n",
    "\n",
    "#Ejercicio 7\n",
    "print(input(\"Introduce tu nombre de usuario: \"))\n",
    "\n",
    "#Ejercicio 8\n",
    "a = input(\"Introduce el numero a: \")\n",
    "b = input(\"Introduce el numero b: \")\n",
    "print(a+b)\n",
    "\n",
    "#Ejercicio 9\n",
    "numeros = input(\"Introduce numeros separados por comas: \")\n",
    "solo_numeros = []\n",
    "\n",
    "for numero in numeros:\n",
    "    if numero.isdigit():\n",
    "        solo_numeros.append(int(numero))\n",
    "\n",
    "print(solo_numeros)\n",
    "\n",
    "#Ejercicio 10\n",
    "frase = input(\"Introduce una frase: \")\n",
    "palabras = frase.split()\n",
    "\n",
    "print(f\"La lista de palabras es {palabras} y la longitud de la lista es de {len(palabras)}\")\n",
    "\n",
    "if palabras:\n",
    "    palabra_mas_larga = max(palabras, key=len)\n",
    "    print(f\"La palabra más larga es: '{palabra_mas_larga}'\")\n",
    "else:\n",
    "    print(\"No escribiste ninguna palabra.\")"
   ]
  },
  {
   "cell_type": "code",
   "execution_count": null,
   "id": "bd71cba8",
   "metadata": {},
   "outputs": [
    {
     "name": "stdout",
     "output_type": "stream",
     "text": [
      "\n",
      "--- Tabla de Datos ---\n",
      "Nombre        Edad        Ciudad\n",
      "La media de los numeros es: 3.2\n"
     ]
    }
   ],
   "source": [
    "#EJERCICIOS 4.5\n",
    "\n",
    "#Ejercicio 11\n",
    "\n",
    "num_entradas = int(input(\"Introduce cuantas filas quieres añadir: \"))\n",
    "tabla = []\n",
    "\n",
    "for i in range(num_entradas):\n",
    "    nombre = input(\"Introduce tu nombre: \")\n",
    "    edad = input(\"Introduce tu edad: \")\n",
    "    ciudad = input(\"Introduce tu ciudad: \")\n",
    "    tabla.append([nombre, edad, ciudad])\n",
    "\n",
    "# Mostrar los datos en formato tabla\n",
    "print(f\"\\n--- Tabla de Datos ---\")\n",
    "print(f\"{'Nombre':<10} {'Edad':^10} {'Ciudad':>10}\")\n",
    "for fila in tabla:\n",
    "    print(f\"{fila[0]:<10} {fila[1]:^10} {fila[2]:>10}\")\n",
    "\n",
    "#Ejercicio 12\n",
    "\n",
    "listado_numeros = input(\"Introduce una lista de numeros separados por comas: \")\n",
    "numeros = list(map(int, listado_numeros.split(\",\"))) #Es lo mismo de abajo pero con programacion funcional\n",
    "#numeros = [int(numeros) for numeros in listado_numeros.split(\",\")]\n",
    "\n",
    "print(f\"La media de los numeros es: {sum(numeros)/(len(numeros))}\")"
   ]
  }
 ],
 "metadata": {
  "kernelspec": {
   "display_name": "Python 3",
   "language": "python",
   "name": "python3"
  },
  "language_info": {
   "codemirror_mode": {
    "name": "ipython",
    "version": 3
   },
   "file_extension": ".py",
   "mimetype": "text/x-python",
   "name": "python",
   "nbconvert_exporter": "python",
   "pygments_lexer": "ipython3",
   "version": "3.13.7"
  }
 },
 "nbformat": 4,
 "nbformat_minor": 5
}
